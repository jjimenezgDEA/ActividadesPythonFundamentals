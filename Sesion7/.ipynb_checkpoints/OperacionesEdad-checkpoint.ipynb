{
 "cells": [
  {
   "cell_type": "markdown",
   "id": "c866014d",
   "metadata": {},
   "source": [
    "# Actividad: Operaciones Edad - Ecuaciones\n",
    "## 1.-El doble de mi edad tiene 24 años, ¿cuántos años tengo? (x=?)"
   ]
  },
  {
   "cell_type": "code",
   "execution_count": 1,
   "id": "7bd1b37c",
   "metadata": {},
   "outputs": [],
   "source": [
    "import numpy as np"
   ]
  },
  {
   "cell_type": "code",
   "execution_count": 2,
   "id": "70c20c00",
   "metadata": {},
   "outputs": [
    {
     "name": "stdout",
     "output_type": "stream",
     "text": [
      "Mi edad es  12.0  años\n"
     ]
    }
   ],
   "source": [
    "# 2*miEdad=24 -> miEdad=24/2\n",
    "miEdad=24/2\n",
    "print(\"Mi edad es \",miEdad,\" años\")"
   ]
  },
  {
   "cell_type": "markdown",
   "id": "873d6676",
   "metadata": {},
   "source": [
    "## 2.- A un tercio de la edad de mi hermana le disminuyo 15 años. Tengo 6 años. ¿Qué edad tiene? (Escribir la ecuación correspondiente, despejar y calcular x de manera manual)"
   ]
  },
  {
   "cell_type": "code",
   "execution_count": 3,
   "id": "a9572153",
   "metadata": {},
   "outputs": [
    {
     "name": "stdout",
     "output_type": "stream",
     "text": [
      "La edad de mi hermana es  63  años\n"
     ]
    }
   ],
   "source": [
    "miEdad=6\n",
    "# miEdad=(edadHermana/3)-15 -> edadHermana=(miEdad+15)*3\n",
    "edadHermana=(miEdad+15)*3\n",
    "print(\"La edad de mi hermana es \",edadHermana, \" años\")"
   ]
  },
  {
   "cell_type": "markdown",
   "id": "71b8212a",
   "metadata": {},
   "source": [
    "## 3.-Determina quién es más grande utilizando if y else.  "
   ]
  },
  {
   "cell_type": "code",
   "execution_count": 4,
   "id": "a4bfc3df",
   "metadata": {},
   "outputs": [
    {
     "name": "stdout",
     "output_type": "stream",
     "text": [
      "Mi hermana es mayor.\n"
     ]
    }
   ],
   "source": [
    "if miEdad<edadHermana:\n",
    "    print(\"Mi hermana es mayor.\")\n",
    "else:\n",
    "    print(\"Yo soy mayor.\")\n",
    "        "
   ]
  }
 ],
 "metadata": {
  "kernelspec": {
   "display_name": "Python 3",
   "language": "python",
   "name": "python3"
  },
  "language_info": {
   "codemirror_mode": {
    "name": "ipython",
    "version": 3
   },
   "file_extension": ".py",
   "mimetype": "text/x-python",
   "name": "python",
   "nbconvert_exporter": "python",
   "pygments_lexer": "ipython3",
   "version": "3.6.13"
  }
 },
 "nbformat": 4,
 "nbformat_minor": 5
}
