{
 "cells": [
  {
   "cell_type": "markdown",
   "id": "1f1a2e4d",
   "metadata": {},
   "source": [
    "# Actividad:Tupla\n",
    "## 1.- Crea una tupla con una longitud de 5. usando diferentes tipos de datos."
   ]
  },
  {
   "cell_type": "code",
   "execution_count": 1,
   "id": "198d0434",
   "metadata": {},
   "outputs": [
    {
     "name": "stdout",
     "output_type": "stream",
     "text": [
      "(2022, 3.141592, 'Cadena', True, ['Elemento1', 'Elemento2'])\n"
     ]
    },
    {
     "data": {
      "text/plain": [
       "tuple"
      ]
     },
     "execution_count": 1,
     "metadata": {},
     "output_type": "execute_result"
    }
   ],
   "source": [
    "tupla=(2022,3.141592,\"Cadena\",True,[\"Elemento1\",\"Elemento2\"])\n",
    "print(tupla)\n",
    "type(tupla)"
   ]
  },
  {
   "cell_type": "markdown",
   "id": "294e41b7",
   "metadata": {},
   "source": [
    "## 2.- Cambiar la tupla a lista"
   ]
  },
  {
   "cell_type": "code",
   "execution_count": 2,
   "id": "01ed030d",
   "metadata": {},
   "outputs": [
    {
     "name": "stdout",
     "output_type": "stream",
     "text": [
      "[2022, 3.141592, 'Cadena', True, ['Elemento1', 'Elemento2']]\n"
     ]
    },
    {
     "data": {
      "text/plain": [
       "list"
      ]
     },
     "execution_count": 2,
     "metadata": {},
     "output_type": "execute_result"
    }
   ],
   "source": [
    "tupla2lista=list(tupla)\n",
    "print(tupla2lista)\n",
    "type(tupla2lista)"
   ]
  },
  {
   "cell_type": "markdown",
   "id": "bf5ef644",
   "metadata": {},
   "source": [
    "## 3.- Crea un diccionario donde la clave sea del 1 al 5 y los elementos los datos de la lista "
   ]
  },
  {
   "cell_type": "code",
   "execution_count": 3,
   "id": "75917db2",
   "metadata": {},
   "outputs": [
    {
     "data": {
      "text/plain": [
       "[1, 2, 3, 4, 5]"
      ]
     },
     "execution_count": 3,
     "metadata": {},
     "output_type": "execute_result"
    }
   ],
   "source": [
    "dictKeys=list(range(1,6))\n",
    "dictKeys"
   ]
  },
  {
   "cell_type": "code",
   "execution_count": 4,
   "id": "3db88eed",
   "metadata": {},
   "outputs": [
    {
     "data": {
      "text/plain": [
       "{1: 2022, 2: 3.141592, 3: 'Cadena', 4: True, 5: ['Elemento1', 'Elemento2']}"
      ]
     },
     "execution_count": 4,
     "metadata": {},
     "output_type": "execute_result"
    }
   ],
   "source": [
    "diccionario=dict(zip(dictKeys,tupla2lista))\n",
    "diccionario"
   ]
  }
 ],
 "metadata": {
  "kernelspec": {
   "display_name": "Python 3",
   "language": "python",
   "name": "python3"
  },
  "language_info": {
   "codemirror_mode": {
    "name": "ipython",
    "version": 3
   },
   "file_extension": ".py",
   "mimetype": "text/x-python",
   "name": "python",
   "nbconvert_exporter": "python",
   "pygments_lexer": "ipython3",
   "version": "3.6.13"
  }
 },
 "nbformat": 4,
 "nbformat_minor": 5
}
