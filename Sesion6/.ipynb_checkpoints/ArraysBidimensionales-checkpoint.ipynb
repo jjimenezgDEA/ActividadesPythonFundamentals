{
 "cells": [
  {
   "cell_type": "markdown",
   "id": "3cb6a4f6",
   "metadata": {},
   "source": [
    "# Actividad: Arrays Bidimensionales\n",
    "## 1.- Crear una matriz 3x3 con valores de 0 a 8"
   ]
  },
  {
   "cell_type": "code",
   "execution_count": 1,
   "id": "8f2a21c5",
   "metadata": {},
   "outputs": [],
   "source": [
    "import numpy as np"
   ]
  },
  {
   "cell_type": "code",
   "execution_count": 2,
   "id": "45f1b843",
   "metadata": {},
   "outputs": [
    {
     "data": {
      "text/plain": [
       "array([[0, 1, 2],\n",
       "       [3, 4, 5],\n",
       "       [6, 7, 8]])"
      ]
     },
     "execution_count": 2,
     "metadata": {},
     "output_type": "execute_result"
    }
   ],
   "source": [
    "bidim=np.resize(np.arange(0,9),(3,3))\n",
    "bidim"
   ]
  },
  {
   "cell_type": "markdown",
   "id": "45d8b48e",
   "metadata": {},
   "source": [
    "## 2.- Crear una matriz identidad de 6x6 "
   ]
  },
  {
   "cell_type": "code",
   "execution_count": 3,
   "id": "53150d0b",
   "metadata": {},
   "outputs": [
    {
     "data": {
      "text/plain": [
       "array([[1, 0, 0, 0, 0, 0],\n",
       "       [0, 1, 0, 0, 0, 0],\n",
       "       [0, 0, 1, 0, 0, 0],\n",
       "       [0, 0, 0, 1, 0, 0],\n",
       "       [0, 0, 0, 0, 1, 0],\n",
       "       [0, 0, 0, 0, 0, 1]])"
      ]
     },
     "execution_count": 3,
     "metadata": {},
     "output_type": "execute_result"
    }
   ],
   "source": [
    "id6=np.identity(6,dtype=\"int\")\n",
    "id6"
   ]
  }
 ],
 "metadata": {
  "kernelspec": {
   "display_name": "Python 3",
   "language": "python",
   "name": "python3"
  },
  "language_info": {
   "codemirror_mode": {
    "name": "ipython",
    "version": 3
   },
   "file_extension": ".py",
   "mimetype": "text/x-python",
   "name": "python",
   "nbconvert_exporter": "python",
   "pygments_lexer": "ipython3",
   "version": "3.6.13"
  }
 },
 "nbformat": 4,
 "nbformat_minor": 5
}
