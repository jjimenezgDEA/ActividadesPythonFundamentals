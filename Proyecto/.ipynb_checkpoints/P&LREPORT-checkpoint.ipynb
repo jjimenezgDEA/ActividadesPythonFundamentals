{
 "cells": [
  {
   "cell_type": "markdown",
   "id": "ecf006ef",
   "metadata": {},
   "source": [
    "# Reporte de consumos y nominacones de complejos Deacero\n",
    "# TEAM ENERGÍA: José Jiménez González e Iván López García\n",
    "\n",
    "## Librerías utilizadas"
   ]
  },
  {
   "cell_type": "code",
   "execution_count": null,
   "id": "71a16856-0a1c-4a87-9ba9-bea9de2b1af8",
   "metadata": {},
   "outputs": [],
   "source": [
    "import pandas as pd\n",
    "import numpy as np\n",
    "import matplotlib.pyplot as plt\n",
    "import seaborn as sns\n",
    "from datetime import datetime"
   ]
  },
  {
   "cell_type": "markdown",
   "id": "a1b7ab54",
   "metadata": {},
   "source": [
    "## Lectura de base de datos "
   ]
  },
  {
   "cell_type": "code",
   "execution_count": null,
   "id": "65d79fe4-c064-4076-ac9a-77fd7c9c2c3d",
   "metadata": {},
   "outputs": [],
   "source": [
    "deacerodb=pd.read_csv(\"DB P&L.csv\")\n",
    "deacerodb.head()"
   ]
  },
  {
   "cell_type": "markdown",
   "id": "5760d486",
   "metadata": {},
   "source": [
    "## Consolidacion de columnas de fecha y hora como indice de DataFrames  "
   ]
  },
  {
   "cell_type": "code",
   "execution_count": null,
   "id": "11f029a5-24d0-4434-ac66-55eb341e849d",
   "metadata": {},
   "outputs": [],
   "source": [
    "deacerodb['Fecha']=pd.to_datetime(deacerodb['Fecha'])\n",
    "Dia=pd.DatetimeIndex(deacerodb[\"Fecha\"]).weekday\n",
    "deacerodb.insert(loc=2,column=\"Dia\",value=Dia)\n",
    "\n",
    "deacerodb_datestr=deacerodb[['Fecha','Hora']]\n",
    "deacerodb_datetime=pd.DataFrame({'Fecha': deacerodb.Fecha+pd.to_timedelta(deacerodb.Hora,unit='h')})\n",
    "deacerodb['Fecha']=deacerodb_datetime['Fecha']\n",
    "deacerodb.set_index('Fecha',inplace=True)\n",
    "\n",
    "deacerodb.head()"
   ]
  },
  {
   "cell_type": "markdown",
   "id": "2ff6907b",
   "metadata": {},
   "source": [
    "### Cálculo de DART, P&L y MAPE\n",
    "$$DART = MDA - MTR$$\n",
    "$$PnL= DART(E_{nom}-E_{con})$$\n",
    "$$MAPE_d=\\frac{1}{24}\\sum_{h=1}^{h=24} \\frac{E_{nom,h}-E_{con,h}}{E_{nom,h}}$$"
   ]
  },
  {
   "cell_type": "code",
   "execution_count": null,
   "id": "2d478081-7614-46ce-90af-3d6d7773fa66",
   "metadata": {},
   "outputs": [],
   "source": [
    "complejo=[\"CELAYA\",\"RAMOS\",\"SALTILLO\"]\n",
    "#complejo=[\"CELAYA\"]\n",
    "ConNom,DART,PnL,MAPE=pd.DataFrame(),pd.DataFrame(),pd.DataFrame(),pd.DataFrame()\n",
    "for i in complejo:\n",
    "    ConNom[\"CON \"+i]=deacerodb[\"CON \"+i]\n",
    "    ConNom[\"NOM \"+i]=deacerodb[\"NOM \"+i]\n",
    "    DART[\"DART \"+i]=deacerodb[\"PML MDA \"+i]- deacerodb[\"PML MTR \"+i]\n",
    "    PnL[\"PnL \"+i]=(deacerodb[\"NOM \"+i]- deacerodb[\"CON \"+i])*DART[\"DART \"+i]\n",
    "    ape=np.abs((ConNom[\"NOM \"+i]-ConNom[\"CON \"+i])/ConNom[\"NOM \"+i])\n",
    "    MAPE[\"MAPE \"+i]=100*ape.resample(\"D\").mean()"
   ]
  },
  {
   "cell_type": "markdown",
   "id": "2b492add",
   "metadata": {},
   "source": [
    "### Desviaciones y P&L de mes corriente"
   ]
  },
  {
   "cell_type": "code",
   "execution_count": null,
   "id": "059c35fb",
   "metadata": {},
   "outputs": [],
   "source": [
    "colors={\"CELAYA\":['#A9D18E','#548235'],\"RAMOS\":['#8BA7DB','#2F5597'],\"SALTILLO\":['#FFD966','#BF9000']}\n",
    "mes=deacerodb.index[-1].month\n",
    "mesdb=deacerodb[deacerodb.index.month==mes]"
   ]
  },
  {
   "cell_type": "code",
   "execution_count": null,
   "id": "201aa6f5",
   "metadata": {},
   "outputs": [],
   "source": [
    "for i in complejo:\n",
    "    fig,ax=plt.subplots(1,2,figsize=(20,4))\n",
    "    fig.suptitle(i)\n",
    "    ax[0].plot(ConNom[ConNom.index.month==mes][\"CON \"+i],color=colors[i][0],label='Consumo')\n",
    "    ax[0].plot(ConNom[ConNom.index.month==mes][\"NOM \"+i],color=colors[i][1],label='Nominación')\n",
    "    ax[0].set_xlabel(\"Fecha\")\n",
    "    ax[0].set_ylabel(\"Energía [MW]\")\n",
    "    ax[0].grid(axis='y')\n",
    "    ax[0].legend(loc=3, fontsize = 10,ncol=2)#poisición de las etiquetas\n",
    "    ax[1].plot(MAPE[MAPE.index.month==mes][\"MAPE \"+i],color=colors[i][1],marker='o')\n",
    "    ax[1].grid()\n",
    "    ax[1].set_xlabel(\"Fecha\")\n",
    "    ax[1].set_ylabel(\"MAPE [%]\")\n",
    "    plt.savefig(\"ConsumoNominacion{}.jpg\".format(i),dpi=300)\n",
    "    print(\"El P&L del complejo \"+i+\" es de\",PnL[PnL.index.month==mes][\"PnL \"+i].sum())"
   ]
  },
  {
   "cell_type": "markdown",
   "id": "c6679d27",
   "metadata": {},
   "source": [
    "# Cálculo de desviaciones y P&L por incidente  "
   ]
  },
  {
   "cell_type": "code",
   "execution_count": null,
   "id": "63b9bc21",
   "metadata": {},
   "outputs": [],
   "source": [
    "complejoIncidente=\"RAMOS\"\n",
    "fechaInicio='2022-09-15'\n",
    "fechaFin='2022-09-17'"
   ]
  },
  {
   "cell_type": "code",
   "execution_count": null,
   "id": "1610ca4f",
   "metadata": {},
   "outputs": [],
   "source": [
    "fig,ax=plt.subplots(3,1,figsize=(10,9))\n",
    "ax[0].plot(ConNom[fechaInicio:fechaFin][\"CON \"+complejoIncidente],color=colors[complejoIncidente][0],label='Consumo')\n",
    "ax[0].plot(ConNom[fechaInicio:fechaFin][\"NOM \"+complejoIncidente],color=colors[complejoIncidente][1],label='Nominación')\n",
    "ax[0].set_title(complejoIncidente)\n",
    "ax[0].set_xlabel(\"Fecha\")\n",
    "ax[0].set_ylabel(\"Energía [MW]\")\n",
    "ax[0].grid(axis='y')\n",
    "ax[0].legend(loc=3, fontsize = 10,ncol=2)#poisición de las etiquetas\n",
    "ax[1].plot(MAPE[fechaInicio:fechaFin][\"MAPE \"+complejoIncidente],color=colors[complejoIncidente][1],marker='o')\n",
    "ax[1].grid()\n",
    "ax[1].set_xlabel(\"Fecha\")\n",
    "ax[1].set_ylabel(\"MAPE [%]\")\n",
    "ax[2].plot(PnL[fechaInicio:fechaFin][\"PnL \"+complejoIncidente],color=colors[complejoIncidente][1],marker='o')\n",
    "ax[2].grid()\n",
    "ax[2].set_xlabel(\"Fecha\")\n",
    "ax[2].set_ylabel(\"PnL [$/MWh]\")\n",
    "plt.savefig(\"Incidente{}_{}.jpg\".format(complejoIncidente,fechaInicio),dpi=300)\n",
    "print(\"El P&L del incidente analizado es de\", PnL[fechaInicio:fechaFin][\"PnL \"+complejoIncidente].sum())"
   ]
  },
  {
   "cell_type": "markdown",
   "id": "1db47c61",
   "metadata": {},
   "source": [
    "## Heatmaps de precios y DART"
   ]
  },
  {
   "cell_type": "code",
   "execution_count": null,
   "id": "10e5aa5f",
   "metadata": {},
   "outputs": [],
   "source": [
    "diasHM=21\n",
    "complejoHM=\"CELAYA\"\n",
    "fechaFinHM=deacerodb.index[-1]\n",
    "fechaInicioHM=fechaFinHM-pd.Timedelta(days=diasHM)\n",
    "MDAHM=pd.pivot_table(deacerodb[fechaInicioHM:fechaFinHM],values=\"PML MDA \"+complejoHM,index=\"Hora\",columns=\"Dia\")\n",
    "DARTHM=pd.pivot_table(pd.concat([deacerodb[fechaInicioHM:fechaFinHM][[\"Hora\",\"Dia\"]],\n",
    "                                 DART[fechaInicioHM:fechaFinHM][\"DART \"+complejoHM]],axis=1),\n",
    "                      values=\"DART \"+complejoHM,index=\"Hora\",columns=\"Dia\")\n"
   ]
  },
  {
   "cell_type": "code",
   "execution_count": null,
   "id": "02699fbd",
   "metadata": {},
   "outputs": [],
   "source": [
    "fig, ax=plt.subplots(1,2,figsize=(20,10))\n",
    "sns.heatmap(MDAHM,annot=True,fmt=\"g\",ax=ax[0])\n",
    "ax[0].set_title(\"MDA del complejo \"+complejoHM+\" últimas 3 semanas\")\n",
    "sns.heatmap(DARTHM,annot=True,fmt=\"g\",ax=ax[1])\n",
    "ax[1].set_title(\"DART del complejo \"+complejoHM+\" últimas 3 semanas\")\n",
    "plt.savefig(\"HM.jpg\",dpi=300)"
   ]
  }
 ],
 "metadata": {
  "kernelspec": {
   "display_name": "Python 3",
   "language": "python",
   "name": "python3"
  },
  "language_info": {
   "codemirror_mode": {
    "name": "ipython",
    "version": 3
   },
   "file_extension": ".py",
   "mimetype": "text/x-python",
   "name": "python",
   "nbconvert_exporter": "python",
   "pygments_lexer": "ipython3",
   "version": "3.6.13"
  }
 },
 "nbformat": 4,
 "nbformat_minor": 5
}
