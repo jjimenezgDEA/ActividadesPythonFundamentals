{
 "cells": [
  {
   "cell_type": "markdown",
   "id": "d341562b",
   "metadata": {},
   "source": [
    "# Actividad: Calculadora\n",
    "\n",
    "## Crear una calculadora con al menos 4 operaciones básicas"
   ]
  },
  {
   "cell_type": "code",
   "execution_count": 1,
   "id": "9dc739fd",
   "metadata": {},
   "outputs": [],
   "source": [
    "import numpy as np"
   ]
  },
  {
   "cell_type": "code",
   "execution_count": 2,
   "id": "c1852d84",
   "metadata": {},
   "outputs": [],
   "source": [
    "class Persona:\n",
    "    '''Clase que representa a una persona'''\n",
    "    nombre= \"Jose\"\n",
    "    apellido=\"Jimenez\"\n",
    "    genero=\"M\"\n",
    "    cedula=\"N/A\""
   ]
  },
  {
   "cell_type": "code",
   "execution_count": 3,
   "id": "7ad40937",
   "metadata": {},
   "outputs": [],
   "source": [
    "Emp1=Persona #Asignacion"
   ]
  },
  {
   "cell_type": "code",
   "execution_count": 4,
   "id": "04043975",
   "metadata": {},
   "outputs": [
    {
     "data": {
      "text/plain": [
       "'Jose'"
      ]
     },
     "execution_count": 4,
     "metadata": {},
     "output_type": "execute_result"
    }
   ],
   "source": [
    "Emp1.nombre #Buscar valor"
   ]
  },
  {
   "cell_type": "code",
   "execution_count": 6,
   "id": "24f51cb6",
   "metadata": {},
   "outputs": [
    {
     "data": {
      "text/plain": [
       "['__class__',\n",
       " '__delattr__',\n",
       " '__dict__',\n",
       " '__dir__',\n",
       " '__doc__',\n",
       " '__eq__',\n",
       " '__format__',\n",
       " '__ge__',\n",
       " '__getattribute__',\n",
       " '__gt__',\n",
       " '__hash__',\n",
       " '__init__',\n",
       " '__init_subclass__',\n",
       " '__le__',\n",
       " '__lt__',\n",
       " '__module__',\n",
       " '__ne__',\n",
       " '__new__',\n",
       " '__reduce__',\n",
       " '__reduce_ex__',\n",
       " '__repr__',\n",
       " '__setattr__',\n",
       " '__sizeof__',\n",
       " '__str__',\n",
       " '__subclasshook__',\n",
       " '__weakref__',\n",
       " 'apellido',\n",
       " 'cedula',\n",
       " 'genero',\n",
       " 'nombre']"
      ]
     },
     "execution_count": 6,
     "metadata": {},
     "output_type": "execute_result"
    }
   ],
   "source": [
    "dir(Emp1)"
   ]
  },
  {
   "cell_type": "code",
   "execution_count": 7,
   "id": "40dce407",
   "metadata": {},
   "outputs": [
    {
     "name": "stdout",
     "output_type": "stream",
     "text": [
      "El objeto de la clase Persona, Clase que representa a una persona\n"
     ]
    }
   ],
   "source": [
    "print(\"El objeto de la clase \"+Emp1.__name__+\", \"+Emp1.__doc__)"
   ]
  },
  {
   "cell_type": "code",
   "execution_count": 8,
   "id": "2f80758f",
   "metadata": {},
   "outputs": [],
   "source": [
    "class Persona:\n",
    "    '''Clase que representa a una persona'''\n",
    "    nombre= \"Jose\"\n",
    "    apellido=\"Jimenez\"\n",
    "    genero=\"M\"\n",
    "    cedula=\"N/A\"\n",
    "    def hablar(self,mensaje):\n",
    "        '''Impresión de un mensaje'''\n",
    "        return mensaje\n",
    "    "
   ]
  },
  {
   "cell_type": "code",
   "execution_count": 9,
   "id": "145f07ad",
   "metadata": {},
   "outputs": [],
   "source": [
    "Emp2=Persona"
   ]
  },
  {
   "cell_type": "code",
   "execution_count": 10,
   "id": "152e1adb",
   "metadata": {},
   "outputs": [
    {
     "data": {
      "text/plain": [
       "'Mensaje'"
      ]
     },
     "execution_count": 10,
     "metadata": {},
     "output_type": "execute_result"
    }
   ],
   "source": [
    "Persona().hablar(\"Mensaje\")"
   ]
  },
  {
   "cell_type": "code",
   "execution_count": 12,
   "id": "84ae6100",
   "metadata": {},
   "outputs": [
    {
     "data": {
      "text/plain": [
       "method"
      ]
     },
     "execution_count": 12,
     "metadata": {},
     "output_type": "execute_result"
    }
   ],
   "source": [
    "type(Persona().hablar)"
   ]
  },
  {
   "cell_type": "code",
   "execution_count": 14,
   "id": "d34bfe7a",
   "metadata": {},
   "outputs": [
    {
     "data": {
      "text/plain": [
       "'Impresión de un mensaje'"
      ]
     },
     "execution_count": 14,
     "metadata": {},
     "output_type": "execute_result"
    }
   ],
   "source": [
    "Persona().hablar.__doc__"
   ]
  },
  {
   "cell_type": "code",
   "execution_count": 15,
   "id": "61fe6b49",
   "metadata": {},
   "outputs": [
    {
     "data": {
      "text/plain": [
       "<function __main__.Persona.hablar(self, mensaje)>"
      ]
     },
     "execution_count": 15,
     "metadata": {},
     "output_type": "execute_result"
    }
   ],
   "source": [
    "Emp2.hablar"
   ]
  },
  {
   "cell_type": "code",
   "execution_count": 16,
   "id": "3382f520",
   "metadata": {},
   "outputs": [
    {
     "data": {
      "text/plain": [
       "'Jose'"
      ]
     },
     "execution_count": 16,
     "metadata": {},
     "output_type": "execute_result"
    }
   ],
   "source": [
    "Emp2.nombre"
   ]
  },
  {
   "cell_type": "code",
   "execution_count": 17,
   "id": "536d08d4",
   "metadata": {},
   "outputs": [],
   "source": [
    "class Persona:\n",
    "    '''Clase que representa a una persona'''\n",
    "    \n",
    "    def __init__(self,nombre,apellido,genero,cedula):#definir funcion init\n",
    "        self.nombre= nombre\n",
    "        self.apellido=apellido\n",
    "        self.genero=genero\n",
    "        self.cedula=cedula\n",
    "        \n",
    "    \n",
    "    def hablar(self,mensaje):\n",
    "        '''Impresión de un mensaje'''\n",
    "        return mensaje"
   ]
  },
  {
   "cell_type": "code",
   "execution_count": 37,
   "id": "af9a5392",
   "metadata": {},
   "outputs": [],
   "source": [
    "class Superv(Persona):\n",
    "    '''Clase que representa a un supervisor'''\n",
    "    \n",
    "    def __init__(self,nombre,apellido,genero,cedula,puesto):\n",
    "        '''Constructor para un supervisor'''\n",
    "        \n",
    "        Persona.__init__(self,nombre,apellido,genero,cedula)\n",
    "        self.puesto=puesto #Atributo nuevo que lo diferencia de la clase Persona\n",
    "        self.tareas=[\"10\",\"11\",\"12\",\"13\"] #Nuevo atributp diferenciador\n",
    "        \n",
    "    def __str__(self):\n",
    "        '''Devuelve la cadena descriptiva'''\n",
    "        \n",
    "        return \"%s: %s %s, puesto: '%s', sus tareas son %s\" %(\n",
    "            #    0  1  2     3                           4\n",
    "        self.__doc__,self.nombre,self.apellido,self.puesto,self.consulta_tareas())\n",
    "        #       0           1     2                3              4  \n",
    "        # Clase que representa a un supervisor: Marcela Jimenez, puesto: 'B', sus tareas son 10, 11, 12, 13\n",
    "    def consulta_tareas(self):\n",
    "            '''Mostrar las tareas de un supervisor'''\n",
    "            return \", \".join(self.tareas)"
   ]
  },
  {
   "cell_type": "code",
   "execution_count": 29,
   "id": "823c41e2",
   "metadata": {},
   "outputs": [],
   "source": [
    "Emp2=Persona(\"nombre\",\"apellido\",\"genero\",\"cedula\")"
   ]
  },
  {
   "cell_type": "code",
   "execution_count": 30,
   "id": "2902169d",
   "metadata": {},
   "outputs": [
    {
     "data": {
      "text/plain": [
       "['__class__',\n",
       " '__delattr__',\n",
       " '__dict__',\n",
       " '__dir__',\n",
       " '__doc__',\n",
       " '__eq__',\n",
       " '__format__',\n",
       " '__ge__',\n",
       " '__getattribute__',\n",
       " '__gt__',\n",
       " '__hash__',\n",
       " '__init__',\n",
       " '__init_subclass__',\n",
       " '__le__',\n",
       " '__lt__',\n",
       " '__module__',\n",
       " '__ne__',\n",
       " '__new__',\n",
       " '__reduce__',\n",
       " '__reduce_ex__',\n",
       " '__repr__',\n",
       " '__setattr__',\n",
       " '__sizeof__',\n",
       " '__str__',\n",
       " '__subclasshook__',\n",
       " '__weakref__',\n",
       " 'apellido',\n",
       " 'cedula',\n",
       " 'genero',\n",
       " 'hablar',\n",
       " 'nombre']"
      ]
     },
     "execution_count": 30,
     "metadata": {},
     "output_type": "execute_result"
    }
   ],
   "source": [
    "dir(Emp2)"
   ]
  },
  {
   "cell_type": "code",
   "execution_count": 32,
   "id": "bb8f6711",
   "metadata": {},
   "outputs": [],
   "source": [
    "Super1=Superv(\"nombre\",\"apellido\",\"genero\",\"cedula\",\"puesto\")"
   ]
  },
  {
   "cell_type": "code",
   "execution_count": 33,
   "id": "e558e462",
   "metadata": {},
   "outputs": [
    {
     "data": {
      "text/plain": [
       "['__class__',\n",
       " '__delattr__',\n",
       " '__dict__',\n",
       " '__dir__',\n",
       " '__doc__',\n",
       " '__eq__',\n",
       " '__format__',\n",
       " '__ge__',\n",
       " '__getattribute__',\n",
       " '__gt__',\n",
       " '__hash__',\n",
       " '__init__',\n",
       " '__init_subclass__',\n",
       " '__le__',\n",
       " '__lt__',\n",
       " '__module__',\n",
       " '__ne__',\n",
       " '__new__',\n",
       " '__reduce__',\n",
       " '__reduce_ex__',\n",
       " '__repr__',\n",
       " '__setattr__',\n",
       " '__sizeof__',\n",
       " '__str__',\n",
       " '__subclasshook__',\n",
       " '__weakref__',\n",
       " 'apellido',\n",
       " 'cedula',\n",
       " 'consulta_tareas',\n",
       " 'genero',\n",
       " 'hablar',\n",
       " 'nombre',\n",
       " 'puesto',\n",
       " 'tareas']"
      ]
     },
     "execution_count": 33,
     "metadata": {},
     "output_type": "execute_result"
    }
   ],
   "source": [
    "dir(Super1)"
   ]
  },
  {
   "cell_type": "code",
   "execution_count": 39,
   "id": "ae95d10f",
   "metadata": {},
   "outputs": [],
   "source": [
    "Super2=Superv(\"Jose\",\"Jimenez\",\"M\",\"123\",\"A\")"
   ]
  },
  {
   "cell_type": "code",
   "execution_count": 40,
   "id": "8b40d696",
   "metadata": {},
   "outputs": [],
   "source": [
    "Super3=Superv(\"Marcela\",\"Jimenez\",\"F\",\"456\",\"B\")"
   ]
  },
  {
   "cell_type": "code",
   "execution_count": 41,
   "id": "559b1dc6",
   "metadata": {},
   "outputs": [
    {
     "name": "stdout",
     "output_type": "stream",
     "text": [
      "Cedula de S1: cedula\n"
     ]
    }
   ],
   "source": [
    "print(\"Cedula de S1: {0}\".format(Super1 .cedula))"
   ]
  },
  {
   "cell_type": "code",
   "execution_count": 42,
   "id": "7126f8c0",
   "metadata": {},
   "outputs": [
    {
     "name": "stdout",
     "output_type": "stream",
     "text": [
      "Las tareas son: 10, 11, 12, 13\n"
     ]
    }
   ],
   "source": [
    "print(\"Las tareas son: {0}\".format(Super2.consulta_tareas())) "
   ]
  },
  {
   "cell_type": "code",
   "execution_count": 43,
   "id": "a1a27804",
   "metadata": {},
   "outputs": [
    {
     "name": "stdout",
     "output_type": "stream",
     "text": [
      "\n",
      "Clase que representa a un supervisor: Marcela Jimenez, puesto: 'B', sus tareas son 10, 11, 12, 13\n"
     ]
    }
   ],
   "source": [
    "print(\"\\n\"+str(Super3))"
   ]
  },
  {
   "cell_type": "code",
   "execution_count": null,
   "id": "626bd4a5",
   "metadata": {},
   "outputs": [],
   "source": []
  }
 ],
 "metadata": {
  "kernelspec": {
   "display_name": "Python 3",
   "language": "python",
   "name": "python3"
  },
  "language_info": {
   "codemirror_mode": {
    "name": "ipython",
    "version": 3
   },
   "file_extension": ".py",
   "mimetype": "text/x-python",
   "name": "python",
   "nbconvert_exporter": "python",
   "pygments_lexer": "ipython3",
   "version": "3.6.13"
  }
 },
 "nbformat": 4,
 "nbformat_minor": 5
}
