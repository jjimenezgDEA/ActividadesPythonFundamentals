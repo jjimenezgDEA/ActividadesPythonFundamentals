{
 "cells": [
  {
   "cell_type": "markdown",
   "id": "3baee7cb",
   "metadata": {},
   "source": [
    "# Actividad: Calculadora\n",
    "\n",
    "## Crear una calculadora con al menos 4 operaciones básicas"
   ]
  },
  {
   "cell_type": "code",
   "execution_count": 1,
   "id": "519dd7ae",
   "metadata": {},
   "outputs": [],
   "source": [
    "class Calculadora:\n",
    "    '''Calculadora de operaciones básicas'''\n",
    "    \n",
    "    def __init__(self,n1,n2):\n",
    "        '''Constructor de operandos'''\n",
    "        self.n1=n1\n",
    "        self.n2=n2\n",
    "        \n",
    "    def suma(self):\n",
    "        '''Función que suma dos números'''\n",
    "        op=\"suma\"\n",
    "        t=self.n1+self.n2\n",
    "        return \"El resultado de la %s de %s con %s es: %s\" %(\n",
    "            op,self.n1,self.n2,t)\n",
    "    def resta(self):\n",
    "        '''Función que resta dos números'''\n",
    "        op=\"resta\"\n",
    "        t=self.n1-self.n2\n",
    "        return \"El resultado de la %s de %s con %s es: %s\" %(\n",
    "            op,self.n1,self.n2,t)\n",
    "    def multiplicacion(self):\n",
    "        '''Función que multiplica dos números'''\n",
    "        op=\"multiplicación\"\n",
    "        t=self.n1*self.n2\n",
    "        return \"El resultado de la %s de %s con %s es: %s\" %(\n",
    "            op,self.n1,self.n2,t)\n",
    "    def division(self):\n",
    "        '''Función que divide dos números'''\n",
    "        op=\"división\"\n",
    "        t=self.n1/self.n2\n",
    "        return \"El resultado de la %s de %s con %s es: %s\" %(\n",
    "            op,self.n1,self.n2,t)\n",
    "        "
   ]
  },
  {
   "cell_type": "code",
   "execution_count": 2,
   "id": "e0ad3578",
   "metadata": {},
   "outputs": [],
   "source": [
    "A=Calculadora"
   ]
  },
  {
   "cell_type": "code",
   "execution_count": 3,
   "id": "cd5bba12",
   "metadata": {},
   "outputs": [
    {
     "data": {
      "text/plain": [
       "'El resultado de la suma de 1 con 2 es: 3'"
      ]
     },
     "execution_count": 3,
     "metadata": {},
     "output_type": "execute_result"
    }
   ],
   "source": [
    "A(1,2).suma()"
   ]
  },
  {
   "cell_type": "code",
   "execution_count": 4,
   "id": "b31fa16f",
   "metadata": {},
   "outputs": [
    {
     "data": {
      "text/plain": [
       "'El resultado de la resta de 10 con 6 es: 4'"
      ]
     },
     "execution_count": 4,
     "metadata": {},
     "output_type": "execute_result"
    }
   ],
   "source": [
    "A(10,6).resta()"
   ]
  },
  {
   "cell_type": "code",
   "execution_count": 5,
   "id": "24c88f83",
   "metadata": {},
   "outputs": [
    {
     "data": {
      "text/plain": [
       "'El resultado de la multiplicación de -10 con -0.5 es: 5.0'"
      ]
     },
     "execution_count": 5,
     "metadata": {},
     "output_type": "execute_result"
    }
   ],
   "source": [
    "A(-10,-0.5).multiplicacion()"
   ]
  },
  {
   "cell_type": "code",
   "execution_count": 6,
   "id": "bc37e3a4",
   "metadata": {},
   "outputs": [
    {
     "data": {
      "text/plain": [
       "'El resultado de la división de 60 con 10 es: 6.0'"
      ]
     },
     "execution_count": 6,
     "metadata": {},
     "output_type": "execute_result"
    }
   ],
   "source": [
    "A(60,10).division()"
   ]
  },
  {
   "cell_type": "code",
   "execution_count": null,
   "id": "9e799bd9",
   "metadata": {},
   "outputs": [],
   "source": []
  }
 ],
 "metadata": {
  "kernelspec": {
   "display_name": "Python 3",
   "language": "python",
   "name": "python3"
  },
  "language_info": {
   "codemirror_mode": {
    "name": "ipython",
    "version": 3
   },
   "file_extension": ".py",
   "mimetype": "text/x-python",
   "name": "python",
   "nbconvert_exporter": "python",
   "pygments_lexer": "ipython3",
   "version": "3.6.13"
  }
 },
 "nbformat": 4,
 "nbformat_minor": 5
}
