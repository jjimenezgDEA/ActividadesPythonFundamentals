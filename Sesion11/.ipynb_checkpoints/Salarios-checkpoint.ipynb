{
 "cells": [
  {
   "cell_type": "markdown",
   "id": "a01ad516",
   "metadata": {},
   "source": [
    "# Actividad: Salarios\n",
    "\n",
    "## Obtén la diferencia entre el salario más alto y el más pequeño."
   ]
  },
  {
   "cell_type": "code",
   "execution_count": 1,
   "id": "92128129",
   "metadata": {},
   "outputs": [],
   "source": [
    "import numpy as np\n",
    "import pandas as pd"
   ]
  },
  {
   "cell_type": "code",
   "execution_count": 2,
   "id": "2b3fdc9d",
   "metadata": {},
   "outputs": [],
   "source": [
    "db_salarios=pd.read_csv(\"salarios.csv\")"
   ]
  },
  {
   "cell_type": "code",
   "execution_count": 3,
   "id": "6cd0b8ea",
   "metadata": {},
   "outputs": [
    {
     "name": "stdout",
     "output_type": "stream",
     "text": [
      "La diferencia entre el salario máximo ( 100000 ) y el mínimo ( 15000 ) es de :  85000\n"
     ]
    }
   ],
   "source": [
    "max_sal=db_salarios[\"Salario\"].max()\n",
    "min_sal=db_salarios[\"Salario\"].min()\n",
    "d_sal=max_sal-min_sal\n",
    "print(\"La diferencia entre el salario máximo (\",max_sal,\") y el mínimo (\",min_sal,\") es de : \",d_sal)\n",
    "\n"
   ]
  }
 ],
 "metadata": {
  "kernelspec": {
   "display_name": "Python 3",
   "language": "python",
   "name": "python3"
  },
  "language_info": {
   "codemirror_mode": {
    "name": "ipython",
    "version": 3
   },
   "file_extension": ".py",
   "mimetype": "text/x-python",
   "name": "python",
   "nbconvert_exporter": "python",
   "pygments_lexer": "ipython3",
   "version": "3.6.13"
  }
 },
 "nbformat": 4,
 "nbformat_minor": 5
}
