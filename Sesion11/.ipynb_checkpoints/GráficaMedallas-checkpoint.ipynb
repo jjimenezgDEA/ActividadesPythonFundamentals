{
 "cells": [
  {
   "cell_type": "markdown",
   "id": "b069d4ab",
   "metadata": {},
   "source": [
    "# Actividad: Gráfica Medallas\n",
    "\n",
    "## Crea una gráfica de barras que represente a los 10 países con más medallas ganadas."
   ]
  },
  {
   "cell_type": "code",
   "execution_count": 2,
   "id": "423777de",
   "metadata": {},
   "outputs": [],
   "source": [
    "import pandas as pd\n",
    "import numpy as np\n",
    "import matplotlib.pyplot as plt"
   ]
  },
  {
   "cell_type": "code",
   "execution_count": 5,
   "id": "cce94498",
   "metadata": {},
   "outputs": [],
   "source": [
    "df=pd.read_csv(\"../Sesion10/athlete_events.csv\")\n",
    "medallas=df[['NOC','Medal']]"
   ]
  },
  {
   "cell_type": "code",
   "execution_count": 10,
   "id": "9bf96982",
   "metadata": {},
   "outputs": [
    {
     "data": {
      "text/plain": [
       "NOC\n",
       "USA    5637.0\n",
       "URS    2503.0\n",
       "GER    2165.0\n",
       "GBR    2068.0\n",
       "FRA    1777.0\n",
       "        ...  \n",
       "HON       0.0\n",
       "SEY       0.0\n",
       "SAM       0.0\n",
       "SAA       0.0\n",
       "GBS       0.0\n",
       "Name: Total, Length: 230, dtype: float64"
      ]
     },
     "execution_count": 10,
     "metadata": {},
     "output_type": "execute_result"
    }
   ],
   "source": [
    "expMedallas=pd.concat([medallas,pd.get_dummies(df[[\"Medal\"]])],axis=1)\n",
    "totalMedallas=expMedallas.groupby(['NOC']).sum()\n",
    "totalMedallas[\"Total\"]=totalMedallas[\"Medal_Bronze\"]+totalMedallas[\"Medal_Gold\"]+totalMedallas[\"Medal_Silver\"]\n",
    "topMedallas=totalMedallas[\"Total\"].sort_values(ascending=False)\n",
    "topMedallas"
   ]
  },
  {
   "cell_type": "code",
   "execution_count": 11,
   "id": "9c65c638",
   "metadata": {},
   "outputs": [
    {
     "data": {
      "text/plain": [
       "Text(0, 0.5, 'Medallas ganadas')"
      ]
     },
     "execution_count": 11,
     "metadata": {},
     "output_type": "execute_result"
    },
    {
     "data": {
      "image/png": "[encoded data removed]",
      "text/plain": [
       "<Figure size 720x720 with 1 Axes>"
      ]
     },
     "metadata": {
      "needs_background": "light"
     },
     "output_type": "display_data"
    }
   ],
   "source": [
    "topMedallas[:10].plot(kind=\"bar\",figsize=(10,10))\n",
    "plt.title(\"Top 10 de países medallistas\")\n",
    "plt.xlabel(\"País\")\n",
    "plt.ylabel(\"Medallas ganadas\")"
   ]
  },
  {
   "cell_type": "code",
   "execution_count": null,
   "id": "c8227810",
   "metadata": {},
   "outputs": [],
   "source": []
  }
 ],
 "metadata": {
  "kernelspec": {
   "display_name": "Python 3",
   "language": "python",
   "name": "python3"
  },
  "language_info": {
   "codemirror_mode": {
    "name": "ipython",
    "version": 3
   },
   "file_extension": ".py",
   "mimetype": "text/x-python",
   "name": "python",
   "nbconvert_exporter": "python",
   "pygments_lexer": "ipython3",
   "version": "3.6.13"
  }
 },
 "nbformat": 4,
 "nbformat_minor": 5
}
