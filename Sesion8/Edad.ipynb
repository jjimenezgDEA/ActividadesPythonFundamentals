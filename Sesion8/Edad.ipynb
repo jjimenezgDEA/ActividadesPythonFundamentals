{
 "cells": [
  {
   "cell_type": "markdown",
   "id": "1c9f3749",
   "metadata": {},
   "source": [
    "# Actividad: Edad\n",
    "## Hagamos un programa que determine si eres mayor de edad o no."
   ]
  },
  {
   "cell_type": "code",
   "execution_count": 1,
   "id": "d4b875bf",
   "metadata": {},
   "outputs": [
    {
     "name": "stdout",
     "output_type": "stream",
     "text": [
      "Ingresa tu edad: 30\n",
      "Eres mayor de edad\n"
     ]
    }
   ],
   "source": [
    "edadUsuario=int(input(\"Ingresa tu edad: \"))\n",
    "if edadUsuario<=17:\n",
    "    print(\"Eres menor de edad\")\n",
    "else:\n",
    "    print(\"Eres mayor de edad\")"
   ]
  },
  {
   "cell_type": "markdown",
   "id": "eb2a8c3f",
   "metadata": {},
   "source": [
    "# Actividad: Avanzada\n",
    "## Hagamos un programa que determine si eres mayor de edad o no y que determine tu género. "
   ]
  },
  {
   "cell_type": "code",
   "execution_count": 2,
   "id": "35e7ac45",
   "metadata": {},
   "outputs": [
    {
     "name": "stdout",
     "output_type": "stream",
     "text": [
      "Ingresa tu edad sguida de tu M si eres hombre y F si eres mujer, separados por un guión: 30-M\n"
     ]
    }
   ],
   "source": [
    "infoUsuario=input(\"Ingresa tu edad seguida de tu M si eres hombre y F si eres mujer, separados por un guión: \")"
   ]
  },
  {
   "cell_type": "code",
   "execution_count": 3,
   "id": "8ce45660",
   "metadata": {},
   "outputs": [
    {
     "name": "stdout",
     "output_type": "stream",
     "text": [
      "Tu edad es  30  años, y eres genero  Masculino\n"
     ]
    }
   ],
   "source": [
    "aux=[]\n",
    "for n in range(0,len(infoUsuario)):\n",
    "    if infoUsuario[n]==\"-\":\n",
    "        edadUsuario=int(''.join(aux))\n",
    "        aux=[]\n",
    "        continue\n",
    "    aux.append(infoUsuario[n])\n",
    "    \n",
    "if aux[0]==\"F\":\n",
    "    generoUsuario=\"Femenino\"\n",
    "else:\n",
    "    generoUsuario=\"Masculino\"\n",
    "        \n",
    "print(\"Tu edad es \",edadUsuario, \" años, y eres genero \", generoUsuario)"
   ]
  }
 ],
 "metadata": {
  "kernelspec": {
   "display_name": "Python 3 (ipykernel)",
   "language": "python",
   "name": "python3"
  },
  "language_info": {
   "codemirror_mode": {
    "name": "ipython",
    "version": 3
   },
   "file_extension": ".py",
   "mimetype": "text/x-python",
   "name": "python",
   "nbconvert_exporter": "python",
   "pygments_lexer": "ipython3",
   "version": "3.9.12"
  }
 },
 "nbformat": 4,
 "nbformat_minor": 5
}
