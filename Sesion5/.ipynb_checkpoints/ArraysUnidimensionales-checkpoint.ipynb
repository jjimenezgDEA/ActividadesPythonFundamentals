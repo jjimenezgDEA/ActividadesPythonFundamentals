{
 "cells": [
  {
   "cell_type": "markdown",
   "id": "c102776e",
   "metadata": {},
   "source": [
    "# Actividad: Arrays Unidimensionales\n",
    "## 1.- Crea un vector con valores dentro del rango 3 a el número que representa tu edad."
   ]
  },
  {
   "cell_type": "code",
   "execution_count": 1,
   "id": "5355ad77",
   "metadata": {},
   "outputs": [],
   "source": [
    "import numpy as np"
   ]
  },
  {
   "cell_type": "code",
   "execution_count": 2,
   "id": "893dc1b9",
   "metadata": {},
   "outputs": [
    {
     "data": {
      "text/plain": [
       "array([ 3,  4,  5,  6,  7,  8,  9, 10, 11, 12, 13, 14, 15, 16, 17, 18, 19,\n",
       "       20, 21, 22, 23, 24, 25, 26, 27, 28, 29, 30])"
      ]
     },
     "execution_count": 2,
     "metadata": {},
     "output_type": "execute_result"
    }
   ],
   "source": [
    "edad=30\n",
    "vector=np.array(list(range(3,31)))\n",
    "vector"
   ]
  },
  {
   "cell_type": "markdown",
   "id": "197b1bc7",
   "metadata": {},
   "source": [
    "## 2.- Crea un arreglo con los siguientes elementos: [0, 1, 2, 3, 4, 0, 1, 2, 3, 4]"
   ]
  },
  {
   "cell_type": "code",
   "execution_count": 3,
   "id": "aa23bfbb",
   "metadata": {},
   "outputs": [
    {
     "data": {
      "text/plain": [
       "array([0, 1, 2, 3, 4, 0, 1, 2, 3, 4])"
      ]
     },
     "execution_count": 3,
     "metadata": {},
     "output_type": "execute_result"
    }
   ],
   "source": [
    "lista=[0,1,2,3,4]\n",
    "arreglo=np.array(lista+lista)\n",
    "arreglo"
   ]
  },
  {
   "cell_type": "markdown",
   "id": "b187e489",
   "metadata": {},
   "source": [
    "## 3.- Ordena de forma ascendiente dicho arreglo.  "
   ]
  },
  {
   "cell_type": "code",
   "execution_count": 4,
   "id": "2b006bc7",
   "metadata": {},
   "outputs": [
    {
     "data": {
      "text/plain": [
       "array([0, 0, 1, 1, 2, 2, 3, 3, 4, 4])"
      ]
     },
     "execution_count": 4,
     "metadata": {},
     "output_type": "execute_result"
    }
   ],
   "source": [
    "arreglo.sort()\n",
    "arreglo"
   ]
  }
 ],
 "metadata": {
  "kernelspec": {
   "display_name": "Python 3",
   "language": "python",
   "name": "python3"
  },
  "language_info": {
   "codemirror_mode": {
    "name": "ipython",
    "version": 3
   },
   "file_extension": ".py",
   "mimetype": "text/x-python",
   "name": "python",
   "nbconvert_exporter": "python",
   "pygments_lexer": "ipython3",
   "version": "3.6.13"
  }
 },
 "nbformat": 4,
 "nbformat_minor": 5
}
